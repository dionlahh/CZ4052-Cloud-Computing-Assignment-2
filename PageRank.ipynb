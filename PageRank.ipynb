{
 "cells": [
  {
   "cell_type": "code",
   "execution_count": 1,
   "metadata": {},
   "outputs": [],
   "source": [
    "import common.pagerank as pr\n",
    "import numpy as np"
   ]
  },
  {
   "cell_type": "code",
   "execution_count": 2,
   "metadata": {},
   "outputs": [
    {
     "name": "stderr",
     "output_type": "stream",
     "text": [
      "c:\\Users\\Dion\\anaconda3\\envs\\cloud2\\Lib\\site-packages\\numpy\\core\\fromnumeric.py:88: RuntimeWarning: overflow encountered in reduce\n",
      "  return ufunc.reduce(obj, axis, dtype, out, **passkwargs)\n",
      "e:\\Github\\Year 4\\CZ4052-Cloud-Computing-Assignment-2\\common\\pagerank.py:29: RuntimeWarning: invalid value encountered in multiply\n",
      "  incoming_score = np.sum(adj_matrix[:, i] * prev_pagerank_scores)\n"
     ]
    },
    {
     "name": "stdout",
     "output_type": "stream",
     "text": [
      "DEBUG: 100000\n",
      "DEBUG: 100000\n",
      "DEBUG: 100000\n",
      "Parameter Configuration: {'d': 0.85, 'max_iter': 100000}\n",
      "PageRank scores: [nan nan nan nan]\n",
      "Number of steps to convergence: 100000\n",
      "\n",
      "Parameter Configuration: {'d': 0.9, 'max_iter': 100000}\n",
      "PageRank scores: [nan nan nan nan]\n",
      "Number of steps to convergence: 100000\n",
      "\n",
      "Parameter Configuration: {'d': 0.95, 'max_iter': 100000}\n",
      "PageRank scores: [nan nan nan nan]\n",
      "Number of steps to convergence: 100000\n",
      "\n"
     ]
    }
   ],
   "source": [
    "adj_matrix = np.array([[0, 1, 1, 0], [1, 0, 0, 1], [1, 0, 0, 0], [0, 1, 1, 0]])\n",
    "\n",
    "# Define multiple parameter configurations to explore\n",
    "parameter_configs = [\n",
    "    {\"d\": 0.85, \"max_iter\": 100000},\n",
    "    {\"d\": 0.9, \"max_iter\": 100000},\n",
    "    {\"d\": 0.95, \"max_iter\": 100000},\n",
    "]\n",
    "\n",
    "# Explore parameter configurations\n",
    "results = pr.explore_parameter_configurations(adj_matrix, parameter_configs)\n",
    "\n",
    "# Print results\n",
    "for config, values in results.items():\n",
    "    print(\"Parameter Configuration:\", config)\n",
    "    print(\"PageRank scores:\", values[0])\n",
    "    print(\"Number of steps to convergence:\", values[1])\n",
    "    print()"
   ]
  },
  {
   "cell_type": "code",
   "execution_count": null,
   "metadata": {},
   "outputs": [],
   "source": []
  }
 ],
 "metadata": {
  "kernelspec": {
   "display_name": "Python 3",
   "language": "python",
   "name": "python3"
  },
  "language_info": {
   "codemirror_mode": {
    "name": "ipython",
    "version": 3
   },
   "file_extension": ".py",
   "mimetype": "text/x-python",
   "name": "python",
   "nbconvert_exporter": "python",
   "pygments_lexer": "ipython3",
   "version": "3.8.5"
  }
 },
 "nbformat": 4,
 "nbformat_minor": 2
}
