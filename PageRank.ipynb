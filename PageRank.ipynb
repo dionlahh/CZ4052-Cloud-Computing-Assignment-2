{
 "cells": [
  {
   "cell_type": "markdown",
   "metadata": {},
   "source": [
    "# CZ4052 - Cloud Computing Assignment 2\n",
    "\n",
    "Study Google Pagerank Algorithm and Mapreduce (Mapper & Reducer functions). Your resport should have a section discussing how you explore tuning problem parameters (e.g., teleportation probability, web graph matrix M, distribution vector E etc) and a section of numerical examples and experiments of Google Pagerank Algorithm implemented in your preferred programming language. Start with the illustrative example of four-webpages on Slide 53 of Lecture 7 and then consider larger graphs. Validate that the Pagerank Algorithm converges numerically to the closed form solutions (two closed forms were given in Lecture). See a reference in Matlab: https://www.mathworks.com/help/matlab/math/use-page-rank-algorithm-to-rank-websites.html. Lastly, describe how your Pagerank may be implemented in a parallel programming framework like MapReduce/Hadoop (i.e., Mapper and Reducer Functions).\n"
   ]
  },
  {
   "cell_type": "code",
   "execution_count": 3,
   "metadata": {},
   "outputs": [],
   "source": [
    "import common.pagerank as pr\n",
    "import common.plotting_utils as plt\n",
    "\n",
    "import numpy as np"
   ]
  },
  {
   "cell_type": "markdown",
   "metadata": {},
   "source": [
    "## Lecture Note Examples\n"
   ]
  },
  {
   "cell_type": "markdown",
   "metadata": {},
   "source": [
    "### Simplified Pagerank Algorithm\n"
   ]
  },
  {
   "cell_type": "markdown",
   "metadata": {},
   "source": [
    "#### Example without Spider Traps:\n"
   ]
  },
  {
   "cell_type": "code",
   "execution_count": null,
   "metadata": {},
   "outputs": [],
   "source": [
    "A = [[0, 1, 1, 0], [1, 0, 0, 1], [1, 0, 0, 1], [1, 1, 0, 0]]\n",
    "\n",
    "M = pr.get_transition_matrix(A)\n",
    "\n",
    "\n",
    "\n",
    "plt.plot_directed_graph(A, \"Graph with No Spider Trap\")"
   ]
  },
  {
   "cell_type": "code",
   "execution_count": null,
   "metadata": {},
   "outputs": [],
   "source": [
    "rank_vector, r_history = pr.simplified_pagerank(\n",
    "    M, len(M)\n",
    ")  # Output should be [1/3, 2/9. 2/9, 2/9]\n",
    "plt.plot_r_history(r_history)"
   ]
  },
  {
   "cell_type": "markdown",
   "metadata": {},
   "source": [
    "#### Spider Trap Example:\n",
    "\n",
    "Without teleportation, we are unable to handle spidertraps. All pagerank is allocated to the third node in this example as surfers are not able to get out of third node.\n",
    "\n",
    "Example can be found oin Lecture 7 Page 53\n"
   ]
  },
  {
   "cell_type": "code",
   "execution_count": null,
   "metadata": {},
   "outputs": [],
   "source": [
    "A = [[0, 1, 0, 0], [1, 0, 0, 1], [1, 0, 1, 1], [1, 1, 0, 0]]\n",
    "M = pr.get_transition_matrix(A)\n",
    "plt.plot_directed_graph(A, \"Graph with Spider Trap\")"
   ]
  },
  {
   "cell_type": "code",
   "execution_count": null,
   "metadata": {},
   "outputs": [],
   "source": [
    "rank_vector, r_history = pr.simplified_pagerank(M, len(M))\n",
    "plt.plot_r_history(r_history)"
   ]
  },
  {
   "cell_type": "markdown",
   "metadata": {},
   "source": [
    "### Modified PageRank Algorithm with Teleportation\n"
   ]
  },
  {
   "cell_type": "markdown",
   "metadata": {},
   "source": [
    "#### Spider Trap Example:\n",
    "\n",
    "We will use the same adjacency matrix that contains a spider trap at the third node. beta = 0.8\n"
   ]
  },
  {
   "cell_type": "code",
   "execution_count": null,
   "metadata": {},
   "outputs": [],
   "source": [
    "A = [[0, 1, 0, 0], [1, 0, 0, 1], [1, 0, 1, 1], [1, 1, 0, 0]]\n",
    "M = pr.get_transition_matrix(A)\n",
    "\n",
    "rank_vector, r_history = pr.pagerank(M, len(A), beta=0.8)\n",
    "\n",
    "plt.plot_r_history(r_history)"
   ]
  },
  {
   "cell_type": "code",
   "execution_count": null,
   "metadata": {},
   "outputs": [],
   "source": [
    "rank_vector, r_history = pr.modified_pagerank(\n",
    "    M, len(A), beta=0.8\n",
    ")  # Output: [0.10135135 0.12837838 0.64189189 0.12837838]\n",
    "print(f\"CLOSED FORM:\\n{pr.closed_form_pagerank(M, len(A), beta=0.8)}\")\n",
    "# plt.plot_r_history(r_history)"
   ]
  },
  {
   "cell_type": "markdown",
   "metadata": {},
   "source": [
    "### Dead End Example:\n",
    "\n",
    "When a dead end is present (a node with no outlinks), our pagerank with teleportation fails. We need to be able to remove dead ends by teleporting (with equal probability) the surfer to another node.\n"
   ]
  },
  {
   "cell_type": "code",
   "execution_count": null,
   "metadata": {},
   "outputs": [],
   "source": [
    "A = [[0, 1, 0, 0], [1, 0, 0, 1], [1, 0, 0, 1], [1, 1, 0, 0]]\n",
    "M = pr.get_transition_matrix(A)\n",
    "plt.plot_directed_graph(A, \"Graph with Dead End\")"
   ]
  },
  {
   "cell_type": "code",
   "execution_count": null,
   "metadata": {},
   "outputs": [],
   "source": [
    "# print(f\"M:\\n{M}\")\n",
    "# print(f\"NEW M:\\n{pr.remove_dead_ends(M)}\")\n",
    "rank_vector, r_history = pr.dead_end_pagerank(\n",
    "    M, len(A), beta=0.8\n",
    ")  # Output: [0.10135135 0.12837838 0.64189189 0.12837838]\n",
    "plt.plot_r_history(r_history)"
   ]
  },
  {
   "cell_type": "markdown",
   "metadata": {},
   "source": [
    "## Generated Web Graphs\n"
   ]
  },
  {
   "cell_type": "markdown",
   "metadata": {},
   "source": [
    "We will use pagerank() from now on. This function is a combination of both modified_pagerank() and dead_end_pagerank()\n"
   ]
  },
  {
   "cell_type": "code",
   "execution_count": null,
   "metadata": {},
   "outputs": [],
   "source": [
    "A = pr.generate_web_graph(n=25, prob_1=0.75)\n",
    "plt.plot_directed_graph(A, \"Randomly Generated Graph\")\n",
    "\n",
    "# rank_vector, r_history = pr.dead_end_pagerank(M, len(A), beta=0.8)\n",
    "# print(sum(rank_vector))\n",
    "# # plt.plot_r_history(r_history)"
   ]
  },
  {
   "cell_type": "code",
   "execution_count": null,
   "metadata": {},
   "outputs": [],
   "source": [
    "# A = pr.generate_web_graph(n=10000, prob_1=0.75)\n",
    "# M = pr.get_transition_matrix(A)\n",
    "# r_closed = pr.closed_form_pagerank(M, len(M))\n",
    "\n",
    "# beta_values = [0.5, 0.55, 0.6, 0.65, 0.7, 0.75, 0.8, 0.85, 0.9, 0.95]\n",
    "\n",
    "# for beta in beta_values:\n",
    "#     print(f\"beta = {beta}\")\n",
    "#     r, r_history = pr.pagerank(M, len(M), beta=beta)\n",
    "#     are_equal, err = pr.iter_vs_closed(r, r_closed)\n",
    "#     print()"
   ]
  },
  {
   "cell_type": "code",
   "execution_count": null,
   "metadata": {},
   "outputs": [],
   "source": [
    "# node_list = [20000, 30000]\n",
    "\n",
    "# for node in node_list:\n",
    "#     print(f\"nodes = {node}\")\n",
    "#     A = pr.generate_web_graph(n=node, prob_1=0.75)\n",
    "#     M = pr.get_transition_matrix(A)\n",
    "#     r_closed = pr.closed_form_pagerank(M, len(M))\n",
    "#     r, r_history = pr.pagerank(M, len(M), beta=0.85)\n",
    "#     are_equal, err = pr.iter_vs_closed(r, r_closed)\n",
    "#     print()\n",
    "\n",
    "# A = pr.generate_web_graph(n=30000, prob_1=0.75)\n",
    "# M = pr.get_transition_matrix(A)\n",
    "# r, r_history = pr.pagerank(M, len(M), beta=0.85)"
   ]
  },
  {
   "cell_type": "markdown",
   "metadata": {},
   "source": []
  }
 ],
 "metadata": {
  "kernelspec": {
   "display_name": "Python 3",
   "language": "python",
   "name": "python3"
  },
  "language_info": {
   "codemirror_mode": {
    "name": "ipython",
    "version": 3
   },
   "file_extension": ".py",
   "mimetype": "text/x-python",
   "name": "python",
   "nbconvert_exporter": "python",
   "pygments_lexer": "ipython3",
   "version": "3.12.2"
  }
 },
 "nbformat": 4,
 "nbformat_minor": 2
}
